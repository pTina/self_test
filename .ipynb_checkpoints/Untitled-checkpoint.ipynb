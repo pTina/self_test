{
 "cells": [
  {
   "cell_type": "code",
   "execution_count": 22,
   "metadata": {},
   "outputs": [
    {
     "data": {
      "text/plain": [
       "12"
      ]
     },
     "execution_count": 22,
     "metadata": {},
     "output_type": "execute_result"
    }
   ],
   "source": [
    "# 두 정수 a, b가 주어졌을 때 a와 b 사이에 속한 모든 정수의 합을 리턴하는 함수, solution을 완성하세요.\n",
    "# 예를 들어 a = 3, b = 5인 경우, 3 + 4 + 5 = 12이므로 12를 리턴합니다.\n",
    "\n",
    "numbers =[]\n",
    "count=0\n",
    "answer = 0\n",
    "def solution(a, b):\n",
    "    if a > b:\n",
    "       count = a-b-1\n",
    "       for i in range(count):\n",
    "            numbers.append(b+(i+1))\n",
    "    elif a < b:\n",
    "        count = b-a-1\n",
    "        for i in range(count):\n",
    "            numbers.append(a+(i+1))\n",
    "    else:\n",
    "        return a\n",
    "    \n",
    "    answer = sum(numbers)+a+b\n",
    "    \n",
    "    return answer\n",
    "\n",
    "solution(3,5)"
   ]
  },
  {
   "cell_type": "code",
   "execution_count": 39,
   "metadata": {},
   "outputs": [
    {
     "data": {
      "text/plain": [
       "'true'"
      ]
     },
     "execution_count": 39,
     "metadata": {},
     "output_type": "execute_result"
    }
   ],
   "source": [
    "# 대문자와 소문자가 섞여있는 문자열 s가 주어집니다.\n",
    "# s에 'p'의 개수와 'y'의 개수를 비교해 같으면 True, 다르면 False를 return 하는 solution를 완성하세요.\n",
    "# 'p', 'y' 모두 하나도 없는 경우는 항상 True를 리턴합니다. \n",
    "# 단, 개수를 비교할 때 대문자와 소문자는 구별하지 않습니다.\n",
    "# 예를 들어 s가 pPoooyY면 true를 return하고 Pyy라면 false를 return합니다.\n",
    "\n",
    "\n",
    "def solution(s):\n",
    "    array = list(s.lower())\n",
    "    count_p = 0\n",
    "    count_y = 0\n",
    "    for i in array:\n",
    "        if 'y' == i:\n",
    "            count_y += 1\n",
    "        elif 'p' == i:\n",
    "            count_p += 1\n",
    "    if count_y == count_p:\n",
    "        answer = True\n",
    "    else:\n",
    "        answer = False\n",
    "  \n",
    "\n",
    "solution(\"pPoooyY\")\n",
    "\n",
    "\n"
   ]
  },
  {
   "cell_type": "code",
   "execution_count": null,
   "metadata": {},
   "outputs": [],
   "source": []
  },
  {
   "cell_type": "code",
   "execution_count": null,
   "metadata": {},
   "outputs": [],
   "source": []
  }
 ],
 "metadata": {
  "kernelspec": {
   "display_name": "Python 3",
   "language": "python",
   "name": "python3"
  },
  "language_info": {
   "codemirror_mode": {
    "name": "ipython",
    "version": 3
   },
   "file_extension": ".py",
   "mimetype": "text/x-python",
   "name": "python",
   "nbconvert_exporter": "python",
   "pygments_lexer": "ipython3",
   "version": "3.8.5"
  }
 },
 "nbformat": 4,
 "nbformat_minor": 4
}
